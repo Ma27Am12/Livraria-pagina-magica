{
  "nbformat": 4,
  "nbformat_minor": 0,
  "metadata": {
    "colab": {
      "provenance": []
    },
    "kernelspec": {
      "name": "python3",
      "display_name": "Python 3"
    },
    "language_info": {
      "name": "python"
    }
  },
  "cells": [
    {
      "cell_type": "markdown",
      "source": [
        "## Carregando Dataset pelo drive"
      ],
      "metadata": {
        "id": "AduEYfaDvPnT"
      }
    },
    {
      "cell_type": "code",
      "source": [
        "from google.colab import drive\n",
        "drive.mount('/content/drive')"
      ],
      "metadata": {
        "colab": {
          "base_uri": "https://localhost:8080/"
        },
        "id": "f7Mll1J47uqb",
        "outputId": "67e573f9-4221-4f39-e2f1-387fe3b90edb"
      },
      "execution_count": 1,
      "outputs": [
        {
          "output_type": "stream",
          "name": "stdout",
          "text": [
            "Mounted at /content/drive\n"
          ]
        }
      ]
    },
    {
      "cell_type": "markdown",
      "source": [
        "## Importando biblioteca Pandas"
      ],
      "metadata": {
        "id": "3KISMJKqvYuc"
      }
    },
    {
      "cell_type": "code",
      "execution_count": 2,
      "metadata": {
        "id": "J4xdHA5u7kA1"
      },
      "outputs": [],
      "source": [
        "import pandas as pd"
      ]
    },
    {
      "cell_type": "markdown",
      "source": [
        "## Carregando Dataset"
      ],
      "metadata": {
        "id": "Y_06uczUvjWq"
      }
    },
    {
      "cell_type": "code",
      "source": [
        "df = pd.read_csv('/content/drive/MyDrive/projeto-6/Vendas-livraria-brasil.csv')"
      ],
      "metadata": {
        "id": "IK-kE1Ny78gO"
      },
      "execution_count": 3,
      "outputs": []
    },
    {
      "cell_type": "markdown",
      "source": [
        "## Visualizando Dataset\n"
      ],
      "metadata": {
        "id": "5SJ6tROBvmFf"
      }
    },
    {
      "cell_type": "code",
      "source": [
        "display(df)"
      ],
      "metadata": {
        "colab": {
          "base_uri": "https://localhost:8080/",
          "height": 1000
        },
        "id": "ggPjn_HM8N87",
        "outputId": "71f93b54-1f0f-451a-b027-c1cd9e58b772"
      },
      "execution_count": 4,
      "outputs": [
        {
          "output_type": "display_data",
          "data": {
            "text/plain": [
              "    Índice Vendas    Gênero do Livro Data de Venda  Lucro (R$)\n",
              "0        0    120  Ficção Científica    05/01/2024      1500.0\n",
              "1        1     95            Romance    12/02/2024       900.5\n",
              "2        2    abc         Auto-ajuda    20/03/2024      -200.0\n",
              "3        3    150           Fantasia    25/04/2024      2100.0\n",
              "4        4     80           História    10/05/2024       800.0\n",
              "5        5    100  Ficção Científica    15/06/2024       950.8\n",
              "6        6     50            Romance    03/07/2024       700.0\n",
              "7        7    -10           História    18/08/2024         0.0\n",
              "8        8     85         Auto-ajuda    29/09/2024       850.5\n",
              "9        9    110           Fantasia    30/10/2024      1200.0\n",
              "10      10    130  Ficção Científica    08/01/2024      1550.0\n",
              "11      11     90            Romance    14/02/2024       920.0\n",
              "12      12    abc           História    25/03/2024      -250.0\n",
              "13      13    140           Fantasia    28/04/2024      2200.0\n",
              "14      14    100  Ficção Científica    15/05/2024       990.0\n",
              "15      15     60         Auto-ajuda    10/06/2024       600.5\n",
              "16      16     75           História    20/07/2024       700.0\n",
              "17      17    120            Romance    05/08/2024      1120.0\n",
              "18      18    abc  Ficção Científica    09/09/2024         0.0\n",
              "19      19     90  Ficção Científica    15/10/2024       910.0\n",
              "20      20    100         Auto-ajuda    25/11/2024      1000.0\n",
              "21      21     80           Fantasia    05/12/2024       800.5\n",
              "22      22    -10            Romance    01/01/2024       -50.0\n",
              "23      23    100  Ficção Científica    12/02/2024      1200.0\n",
              "24      24     85           Fantasia    25/03/2024       900.0\n",
              "25      25     90            Romance    08/04/2024       950.0\n",
              "26      26    abc         Auto-ajuda    20/05/2024         0.0\n",
              "27      27    110           Fantasia    15/06/2024      1400.0\n",
              "28      28     80           História    30/07/2024       800.0\n",
              "29      29    120  Ficção Científica    25/08/2024      1550.0\n",
              "30      30     95            Romance    15/09/2024       980.0\n",
              "31      31    abc           Fantasia    28/10/2024      -300.0\n",
              "32      32    100  Ficção Científica    20/11/2024      1100.5\n",
              "33      33     90           História    08/12/2024       850.0\n",
              "34      34     80         Auto-ajuda    03/01/2024       810.0\n",
              "35      35    150            Romance    25/02/2024      2200.0\n",
              "36      36    abc           Fantasia    12/03/2024         0.0\n",
              "37      37     95  Ficção Científica    17/04/2024       950.0\n",
              "38      38    100         Auto-ajuda    25/05/2024      1120.5\n",
              "39      39     80           História    08/06/2024       850.0\n",
              "40      40    120  Ficção Científica    18/07/2024      1550.0"
            ],
            "text/html": [
              "\n",
              "  <div id=\"df-d29a8ccd-7ae5-4662-bc6b-5e9aac6fd1a4\" class=\"colab-df-container\">\n",
              "    <div>\n",
              "<style scoped>\n",
              "    .dataframe tbody tr th:only-of-type {\n",
              "        vertical-align: middle;\n",
              "    }\n",
              "\n",
              "    .dataframe tbody tr th {\n",
              "        vertical-align: top;\n",
              "    }\n",
              "\n",
              "    .dataframe thead th {\n",
              "        text-align: right;\n",
              "    }\n",
              "</style>\n",
              "<table border=\"1\" class=\"dataframe\">\n",
              "  <thead>\n",
              "    <tr style=\"text-align: right;\">\n",
              "      <th></th>\n",
              "      <th>Índice</th>\n",
              "      <th>Vendas</th>\n",
              "      <th>Gênero do Livro</th>\n",
              "      <th>Data de Venda</th>\n",
              "      <th>Lucro (R$)</th>\n",
              "    </tr>\n",
              "  </thead>\n",
              "  <tbody>\n",
              "    <tr>\n",
              "      <th>0</th>\n",
              "      <td>0</td>\n",
              "      <td>120</td>\n",
              "      <td>Ficção Científica</td>\n",
              "      <td>05/01/2024</td>\n",
              "      <td>1500.0</td>\n",
              "    </tr>\n",
              "    <tr>\n",
              "      <th>1</th>\n",
              "      <td>1</td>\n",
              "      <td>95</td>\n",
              "      <td>Romance</td>\n",
              "      <td>12/02/2024</td>\n",
              "      <td>900.5</td>\n",
              "    </tr>\n",
              "    <tr>\n",
              "      <th>2</th>\n",
              "      <td>2</td>\n",
              "      <td>abc</td>\n",
              "      <td>Auto-ajuda</td>\n",
              "      <td>20/03/2024</td>\n",
              "      <td>-200.0</td>\n",
              "    </tr>\n",
              "    <tr>\n",
              "      <th>3</th>\n",
              "      <td>3</td>\n",
              "      <td>150</td>\n",
              "      <td>Fantasia</td>\n",
              "      <td>25/04/2024</td>\n",
              "      <td>2100.0</td>\n",
              "    </tr>\n",
              "    <tr>\n",
              "      <th>4</th>\n",
              "      <td>4</td>\n",
              "      <td>80</td>\n",
              "      <td>História</td>\n",
              "      <td>10/05/2024</td>\n",
              "      <td>800.0</td>\n",
              "    </tr>\n",
              "    <tr>\n",
              "      <th>5</th>\n",
              "      <td>5</td>\n",
              "      <td>100</td>\n",
              "      <td>Ficção Científica</td>\n",
              "      <td>15/06/2024</td>\n",
              "      <td>950.8</td>\n",
              "    </tr>\n",
              "    <tr>\n",
              "      <th>6</th>\n",
              "      <td>6</td>\n",
              "      <td>50</td>\n",
              "      <td>Romance</td>\n",
              "      <td>03/07/2024</td>\n",
              "      <td>700.0</td>\n",
              "    </tr>\n",
              "    <tr>\n",
              "      <th>7</th>\n",
              "      <td>7</td>\n",
              "      <td>-10</td>\n",
              "      <td>História</td>\n",
              "      <td>18/08/2024</td>\n",
              "      <td>0.0</td>\n",
              "    </tr>\n",
              "    <tr>\n",
              "      <th>8</th>\n",
              "      <td>8</td>\n",
              "      <td>85</td>\n",
              "      <td>Auto-ajuda</td>\n",
              "      <td>29/09/2024</td>\n",
              "      <td>850.5</td>\n",
              "    </tr>\n",
              "    <tr>\n",
              "      <th>9</th>\n",
              "      <td>9</td>\n",
              "      <td>110</td>\n",
              "      <td>Fantasia</td>\n",
              "      <td>30/10/2024</td>\n",
              "      <td>1200.0</td>\n",
              "    </tr>\n",
              "    <tr>\n",
              "      <th>10</th>\n",
              "      <td>10</td>\n",
              "      <td>130</td>\n",
              "      <td>Ficção Científica</td>\n",
              "      <td>08/01/2024</td>\n",
              "      <td>1550.0</td>\n",
              "    </tr>\n",
              "    <tr>\n",
              "      <th>11</th>\n",
              "      <td>11</td>\n",
              "      <td>90</td>\n",
              "      <td>Romance</td>\n",
              "      <td>14/02/2024</td>\n",
              "      <td>920.0</td>\n",
              "    </tr>\n",
              "    <tr>\n",
              "      <th>12</th>\n",
              "      <td>12</td>\n",
              "      <td>abc</td>\n",
              "      <td>História</td>\n",
              "      <td>25/03/2024</td>\n",
              "      <td>-250.0</td>\n",
              "    </tr>\n",
              "    <tr>\n",
              "      <th>13</th>\n",
              "      <td>13</td>\n",
              "      <td>140</td>\n",
              "      <td>Fantasia</td>\n",
              "      <td>28/04/2024</td>\n",
              "      <td>2200.0</td>\n",
              "    </tr>\n",
              "    <tr>\n",
              "      <th>14</th>\n",
              "      <td>14</td>\n",
              "      <td>100</td>\n",
              "      <td>Ficção Científica</td>\n",
              "      <td>15/05/2024</td>\n",
              "      <td>990.0</td>\n",
              "    </tr>\n",
              "    <tr>\n",
              "      <th>15</th>\n",
              "      <td>15</td>\n",
              "      <td>60</td>\n",
              "      <td>Auto-ajuda</td>\n",
              "      <td>10/06/2024</td>\n",
              "      <td>600.5</td>\n",
              "    </tr>\n",
              "    <tr>\n",
              "      <th>16</th>\n",
              "      <td>16</td>\n",
              "      <td>75</td>\n",
              "      <td>História</td>\n",
              "      <td>20/07/2024</td>\n",
              "      <td>700.0</td>\n",
              "    </tr>\n",
              "    <tr>\n",
              "      <th>17</th>\n",
              "      <td>17</td>\n",
              "      <td>120</td>\n",
              "      <td>Romance</td>\n",
              "      <td>05/08/2024</td>\n",
              "      <td>1120.0</td>\n",
              "    </tr>\n",
              "    <tr>\n",
              "      <th>18</th>\n",
              "      <td>18</td>\n",
              "      <td>abc</td>\n",
              "      <td>Ficção Científica</td>\n",
              "      <td>09/09/2024</td>\n",
              "      <td>0.0</td>\n",
              "    </tr>\n",
              "    <tr>\n",
              "      <th>19</th>\n",
              "      <td>19</td>\n",
              "      <td>90</td>\n",
              "      <td>Ficção Científica</td>\n",
              "      <td>15/10/2024</td>\n",
              "      <td>910.0</td>\n",
              "    </tr>\n",
              "    <tr>\n",
              "      <th>20</th>\n",
              "      <td>20</td>\n",
              "      <td>100</td>\n",
              "      <td>Auto-ajuda</td>\n",
              "      <td>25/11/2024</td>\n",
              "      <td>1000.0</td>\n",
              "    </tr>\n",
              "    <tr>\n",
              "      <th>21</th>\n",
              "      <td>21</td>\n",
              "      <td>80</td>\n",
              "      <td>Fantasia</td>\n",
              "      <td>05/12/2024</td>\n",
              "      <td>800.5</td>\n",
              "    </tr>\n",
              "    <tr>\n",
              "      <th>22</th>\n",
              "      <td>22</td>\n",
              "      <td>-10</td>\n",
              "      <td>Romance</td>\n",
              "      <td>01/01/2024</td>\n",
              "      <td>-50.0</td>\n",
              "    </tr>\n",
              "    <tr>\n",
              "      <th>23</th>\n",
              "      <td>23</td>\n",
              "      <td>100</td>\n",
              "      <td>Ficção Científica</td>\n",
              "      <td>12/02/2024</td>\n",
              "      <td>1200.0</td>\n",
              "    </tr>\n",
              "    <tr>\n",
              "      <th>24</th>\n",
              "      <td>24</td>\n",
              "      <td>85</td>\n",
              "      <td>Fantasia</td>\n",
              "      <td>25/03/2024</td>\n",
              "      <td>900.0</td>\n",
              "    </tr>\n",
              "    <tr>\n",
              "      <th>25</th>\n",
              "      <td>25</td>\n",
              "      <td>90</td>\n",
              "      <td>Romance</td>\n",
              "      <td>08/04/2024</td>\n",
              "      <td>950.0</td>\n",
              "    </tr>\n",
              "    <tr>\n",
              "      <th>26</th>\n",
              "      <td>26</td>\n",
              "      <td>abc</td>\n",
              "      <td>Auto-ajuda</td>\n",
              "      <td>20/05/2024</td>\n",
              "      <td>0.0</td>\n",
              "    </tr>\n",
              "    <tr>\n",
              "      <th>27</th>\n",
              "      <td>27</td>\n",
              "      <td>110</td>\n",
              "      <td>Fantasia</td>\n",
              "      <td>15/06/2024</td>\n",
              "      <td>1400.0</td>\n",
              "    </tr>\n",
              "    <tr>\n",
              "      <th>28</th>\n",
              "      <td>28</td>\n",
              "      <td>80</td>\n",
              "      <td>História</td>\n",
              "      <td>30/07/2024</td>\n",
              "      <td>800.0</td>\n",
              "    </tr>\n",
              "    <tr>\n",
              "      <th>29</th>\n",
              "      <td>29</td>\n",
              "      <td>120</td>\n",
              "      <td>Ficção Científica</td>\n",
              "      <td>25/08/2024</td>\n",
              "      <td>1550.0</td>\n",
              "    </tr>\n",
              "    <tr>\n",
              "      <th>30</th>\n",
              "      <td>30</td>\n",
              "      <td>95</td>\n",
              "      <td>Romance</td>\n",
              "      <td>15/09/2024</td>\n",
              "      <td>980.0</td>\n",
              "    </tr>\n",
              "    <tr>\n",
              "      <th>31</th>\n",
              "      <td>31</td>\n",
              "      <td>abc</td>\n",
              "      <td>Fantasia</td>\n",
              "      <td>28/10/2024</td>\n",
              "      <td>-300.0</td>\n",
              "    </tr>\n",
              "    <tr>\n",
              "      <th>32</th>\n",
              "      <td>32</td>\n",
              "      <td>100</td>\n",
              "      <td>Ficção Científica</td>\n",
              "      <td>20/11/2024</td>\n",
              "      <td>1100.5</td>\n",
              "    </tr>\n",
              "    <tr>\n",
              "      <th>33</th>\n",
              "      <td>33</td>\n",
              "      <td>90</td>\n",
              "      <td>História</td>\n",
              "      <td>08/12/2024</td>\n",
              "      <td>850.0</td>\n",
              "    </tr>\n",
              "    <tr>\n",
              "      <th>34</th>\n",
              "      <td>34</td>\n",
              "      <td>80</td>\n",
              "      <td>Auto-ajuda</td>\n",
              "      <td>03/01/2024</td>\n",
              "      <td>810.0</td>\n",
              "    </tr>\n",
              "    <tr>\n",
              "      <th>35</th>\n",
              "      <td>35</td>\n",
              "      <td>150</td>\n",
              "      <td>Romance</td>\n",
              "      <td>25/02/2024</td>\n",
              "      <td>2200.0</td>\n",
              "    </tr>\n",
              "    <tr>\n",
              "      <th>36</th>\n",
              "      <td>36</td>\n",
              "      <td>abc</td>\n",
              "      <td>Fantasia</td>\n",
              "      <td>12/03/2024</td>\n",
              "      <td>0.0</td>\n",
              "    </tr>\n",
              "    <tr>\n",
              "      <th>37</th>\n",
              "      <td>37</td>\n",
              "      <td>95</td>\n",
              "      <td>Ficção Científica</td>\n",
              "      <td>17/04/2024</td>\n",
              "      <td>950.0</td>\n",
              "    </tr>\n",
              "    <tr>\n",
              "      <th>38</th>\n",
              "      <td>38</td>\n",
              "      <td>100</td>\n",
              "      <td>Auto-ajuda</td>\n",
              "      <td>25/05/2024</td>\n",
              "      <td>1120.5</td>\n",
              "    </tr>\n",
              "    <tr>\n",
              "      <th>39</th>\n",
              "      <td>39</td>\n",
              "      <td>80</td>\n",
              "      <td>História</td>\n",
              "      <td>08/06/2024</td>\n",
              "      <td>850.0</td>\n",
              "    </tr>\n",
              "    <tr>\n",
              "      <th>40</th>\n",
              "      <td>40</td>\n",
              "      <td>120</td>\n",
              "      <td>Ficção Científica</td>\n",
              "      <td>18/07/2024</td>\n",
              "      <td>1550.0</td>\n",
              "    </tr>\n",
              "  </tbody>\n",
              "</table>\n",
              "</div>\n",
              "    <div class=\"colab-df-buttons\">\n",
              "\n",
              "  <div class=\"colab-df-container\">\n",
              "    <button class=\"colab-df-convert\" onclick=\"convertToInteractive('df-d29a8ccd-7ae5-4662-bc6b-5e9aac6fd1a4')\"\n",
              "            title=\"Convert this dataframe to an interactive table.\"\n",
              "            style=\"display:none;\">\n",
              "\n",
              "  <svg xmlns=\"http://www.w3.org/2000/svg\" height=\"24px\" viewBox=\"0 -960 960 960\">\n",
              "    <path d=\"M120-120v-720h720v720H120Zm60-500h600v-160H180v160Zm220 220h160v-160H400v160Zm0 220h160v-160H400v160ZM180-400h160v-160H180v160Zm440 0h160v-160H620v160ZM180-180h160v-160H180v160Zm440 0h160v-160H620v160Z\"/>\n",
              "  </svg>\n",
              "    </button>\n",
              "\n",
              "  <style>\n",
              "    .colab-df-container {\n",
              "      display:flex;\n",
              "      gap: 12px;\n",
              "    }\n",
              "\n",
              "    .colab-df-convert {\n",
              "      background-color: #E8F0FE;\n",
              "      border: none;\n",
              "      border-radius: 50%;\n",
              "      cursor: pointer;\n",
              "      display: none;\n",
              "      fill: #1967D2;\n",
              "      height: 32px;\n",
              "      padding: 0 0 0 0;\n",
              "      width: 32px;\n",
              "    }\n",
              "\n",
              "    .colab-df-convert:hover {\n",
              "      background-color: #E2EBFA;\n",
              "      box-shadow: 0px 1px 2px rgba(60, 64, 67, 0.3), 0px 1px 3px 1px rgba(60, 64, 67, 0.15);\n",
              "      fill: #174EA6;\n",
              "    }\n",
              "\n",
              "    .colab-df-buttons div {\n",
              "      margin-bottom: 4px;\n",
              "    }\n",
              "\n",
              "    [theme=dark] .colab-df-convert {\n",
              "      background-color: #3B4455;\n",
              "      fill: #D2E3FC;\n",
              "    }\n",
              "\n",
              "    [theme=dark] .colab-df-convert:hover {\n",
              "      background-color: #434B5C;\n",
              "      box-shadow: 0px 1px 3px 1px rgba(0, 0, 0, 0.15);\n",
              "      filter: drop-shadow(0px 1px 2px rgba(0, 0, 0, 0.3));\n",
              "      fill: #FFFFFF;\n",
              "    }\n",
              "  </style>\n",
              "\n",
              "    <script>\n",
              "      const buttonEl =\n",
              "        document.querySelector('#df-d29a8ccd-7ae5-4662-bc6b-5e9aac6fd1a4 button.colab-df-convert');\n",
              "      buttonEl.style.display =\n",
              "        google.colab.kernel.accessAllowed ? 'block' : 'none';\n",
              "\n",
              "      async function convertToInteractive(key) {\n",
              "        const element = document.querySelector('#df-d29a8ccd-7ae5-4662-bc6b-5e9aac6fd1a4');\n",
              "        const dataTable =\n",
              "          await google.colab.kernel.invokeFunction('convertToInteractive',\n",
              "                                                    [key], {});\n",
              "        if (!dataTable) return;\n",
              "\n",
              "        const docLinkHtml = 'Like what you see? Visit the ' +\n",
              "          '<a target=\"_blank\" href=https://colab.research.google.com/notebooks/data_table.ipynb>data table notebook</a>'\n",
              "          + ' to learn more about interactive tables.';\n",
              "        element.innerHTML = '';\n",
              "        dataTable['output_type'] = 'display_data';\n",
              "        await google.colab.output.renderOutput(dataTable, element);\n",
              "        const docLink = document.createElement('div');\n",
              "        docLink.innerHTML = docLinkHtml;\n",
              "        element.appendChild(docLink);\n",
              "      }\n",
              "    </script>\n",
              "  </div>\n",
              "\n",
              "\n",
              "<div id=\"df-0e3ee328-0abb-4708-9eb2-fe808fe435a5\">\n",
              "  <button class=\"colab-df-quickchart\" onclick=\"quickchart('df-0e3ee328-0abb-4708-9eb2-fe808fe435a5')\"\n",
              "            title=\"Suggest charts\"\n",
              "            style=\"display:none;\">\n",
              "\n",
              "<svg xmlns=\"http://www.w3.org/2000/svg\" height=\"24px\"viewBox=\"0 0 24 24\"\n",
              "     width=\"24px\">\n",
              "    <g>\n",
              "        <path d=\"M19 3H5c-1.1 0-2 .9-2 2v14c0 1.1.9 2 2 2h14c1.1 0 2-.9 2-2V5c0-1.1-.9-2-2-2zM9 17H7v-7h2v7zm4 0h-2V7h2v10zm4 0h-2v-4h2v4z\"/>\n",
              "    </g>\n",
              "</svg>\n",
              "  </button>\n",
              "\n",
              "<style>\n",
              "  .colab-df-quickchart {\n",
              "      --bg-color: #E8F0FE;\n",
              "      --fill-color: #1967D2;\n",
              "      --hover-bg-color: #E2EBFA;\n",
              "      --hover-fill-color: #174EA6;\n",
              "      --disabled-fill-color: #AAA;\n",
              "      --disabled-bg-color: #DDD;\n",
              "  }\n",
              "\n",
              "  [theme=dark] .colab-df-quickchart {\n",
              "      --bg-color: #3B4455;\n",
              "      --fill-color: #D2E3FC;\n",
              "      --hover-bg-color: #434B5C;\n",
              "      --hover-fill-color: #FFFFFF;\n",
              "      --disabled-bg-color: #3B4455;\n",
              "      --disabled-fill-color: #666;\n",
              "  }\n",
              "\n",
              "  .colab-df-quickchart {\n",
              "    background-color: var(--bg-color);\n",
              "    border: none;\n",
              "    border-radius: 50%;\n",
              "    cursor: pointer;\n",
              "    display: none;\n",
              "    fill: var(--fill-color);\n",
              "    height: 32px;\n",
              "    padding: 0;\n",
              "    width: 32px;\n",
              "  }\n",
              "\n",
              "  .colab-df-quickchart:hover {\n",
              "    background-color: var(--hover-bg-color);\n",
              "    box-shadow: 0 1px 2px rgba(60, 64, 67, 0.3), 0 1px 3px 1px rgba(60, 64, 67, 0.15);\n",
              "    fill: var(--button-hover-fill-color);\n",
              "  }\n",
              "\n",
              "  .colab-df-quickchart-complete:disabled,\n",
              "  .colab-df-quickchart-complete:disabled:hover {\n",
              "    background-color: var(--disabled-bg-color);\n",
              "    fill: var(--disabled-fill-color);\n",
              "    box-shadow: none;\n",
              "  }\n",
              "\n",
              "  .colab-df-spinner {\n",
              "    border: 2px solid var(--fill-color);\n",
              "    border-color: transparent;\n",
              "    border-bottom-color: var(--fill-color);\n",
              "    animation:\n",
              "      spin 1s steps(1) infinite;\n",
              "  }\n",
              "\n",
              "  @keyframes spin {\n",
              "    0% {\n",
              "      border-color: transparent;\n",
              "      border-bottom-color: var(--fill-color);\n",
              "      border-left-color: var(--fill-color);\n",
              "    }\n",
              "    20% {\n",
              "      border-color: transparent;\n",
              "      border-left-color: var(--fill-color);\n",
              "      border-top-color: var(--fill-color);\n",
              "    }\n",
              "    30% {\n",
              "      border-color: transparent;\n",
              "      border-left-color: var(--fill-color);\n",
              "      border-top-color: var(--fill-color);\n",
              "      border-right-color: var(--fill-color);\n",
              "    }\n",
              "    40% {\n",
              "      border-color: transparent;\n",
              "      border-right-color: var(--fill-color);\n",
              "      border-top-color: var(--fill-color);\n",
              "    }\n",
              "    60% {\n",
              "      border-color: transparent;\n",
              "      border-right-color: var(--fill-color);\n",
              "    }\n",
              "    80% {\n",
              "      border-color: transparent;\n",
              "      border-right-color: var(--fill-color);\n",
              "      border-bottom-color: var(--fill-color);\n",
              "    }\n",
              "    90% {\n",
              "      border-color: transparent;\n",
              "      border-bottom-color: var(--fill-color);\n",
              "    }\n",
              "  }\n",
              "</style>\n",
              "\n",
              "  <script>\n",
              "    async function quickchart(key) {\n",
              "      const quickchartButtonEl =\n",
              "        document.querySelector('#' + key + ' button');\n",
              "      quickchartButtonEl.disabled = true;  // To prevent multiple clicks.\n",
              "      quickchartButtonEl.classList.add('colab-df-spinner');\n",
              "      try {\n",
              "        const charts = await google.colab.kernel.invokeFunction(\n",
              "            'suggestCharts', [key], {});\n",
              "      } catch (error) {\n",
              "        console.error('Error during call to suggestCharts:', error);\n",
              "      }\n",
              "      quickchartButtonEl.classList.remove('colab-df-spinner');\n",
              "      quickchartButtonEl.classList.add('colab-df-quickchart-complete');\n",
              "    }\n",
              "    (() => {\n",
              "      let quickchartButtonEl =\n",
              "        document.querySelector('#df-0e3ee328-0abb-4708-9eb2-fe808fe435a5 button');\n",
              "      quickchartButtonEl.style.display =\n",
              "        google.colab.kernel.accessAllowed ? 'block' : 'none';\n",
              "    })();\n",
              "  </script>\n",
              "</div>\n",
              "\n",
              "  <div id=\"id_d2f3bd1a-2232-4f2b-8d0d-e5823e132acd\">\n",
              "    <style>\n",
              "      .colab-df-generate {\n",
              "        background-color: #E8F0FE;\n",
              "        border: none;\n",
              "        border-radius: 50%;\n",
              "        cursor: pointer;\n",
              "        display: none;\n",
              "        fill: #1967D2;\n",
              "        height: 32px;\n",
              "        padding: 0 0 0 0;\n",
              "        width: 32px;\n",
              "      }\n",
              "\n",
              "      .colab-df-generate:hover {\n",
              "        background-color: #E2EBFA;\n",
              "        box-shadow: 0px 1px 2px rgba(60, 64, 67, 0.3), 0px 1px 3px 1px rgba(60, 64, 67, 0.15);\n",
              "        fill: #174EA6;\n",
              "      }\n",
              "\n",
              "      [theme=dark] .colab-df-generate {\n",
              "        background-color: #3B4455;\n",
              "        fill: #D2E3FC;\n",
              "      }\n",
              "\n",
              "      [theme=dark] .colab-df-generate:hover {\n",
              "        background-color: #434B5C;\n",
              "        box-shadow: 0px 1px 3px 1px rgba(0, 0, 0, 0.15);\n",
              "        filter: drop-shadow(0px 1px 2px rgba(0, 0, 0, 0.3));\n",
              "        fill: #FFFFFF;\n",
              "      }\n",
              "    </style>\n",
              "    <button class=\"colab-df-generate\" onclick=\"generateWithVariable('df')\"\n",
              "            title=\"Generate code using this dataframe.\"\n",
              "            style=\"display:none;\">\n",
              "\n",
              "  <svg xmlns=\"http://www.w3.org/2000/svg\" height=\"24px\"viewBox=\"0 0 24 24\"\n",
              "       width=\"24px\">\n",
              "    <path d=\"M7,19H8.4L18.45,9,17,7.55,7,17.6ZM5,21V16.75L18.45,3.32a2,2,0,0,1,2.83,0l1.4,1.43a1.91,1.91,0,0,1,.58,1.4,1.91,1.91,0,0,1-.58,1.4L9.25,21ZM18.45,9,17,7.55Zm-12,3A5.31,5.31,0,0,0,4.9,8.1,5.31,5.31,0,0,0,1,6.5,5.31,5.31,0,0,0,4.9,4.9,5.31,5.31,0,0,0,6.5,1,5.31,5.31,0,0,0,8.1,4.9,5.31,5.31,0,0,0,12,6.5,5.46,5.46,0,0,0,6.5,12Z\"/>\n",
              "  </svg>\n",
              "    </button>\n",
              "    <script>\n",
              "      (() => {\n",
              "      const buttonEl =\n",
              "        document.querySelector('#id_d2f3bd1a-2232-4f2b-8d0d-e5823e132acd button.colab-df-generate');\n",
              "      buttonEl.style.display =\n",
              "        google.colab.kernel.accessAllowed ? 'block' : 'none';\n",
              "\n",
              "      buttonEl.onclick = () => {\n",
              "        google.colab.notebook.generateWithVariable('df');\n",
              "      }\n",
              "      })();\n",
              "    </script>\n",
              "  </div>\n",
              "\n",
              "    </div>\n",
              "  </div>\n"
            ],
            "application/vnd.google.colaboratory.intrinsic+json": {
              "type": "dataframe",
              "variable_name": "df",
              "summary": "{\n  \"name\": \"df\",\n  \"rows\": 41,\n  \"fields\": [\n    {\n      \"column\": \"\\u00cdndice\",\n      \"properties\": {\n        \"dtype\": \"number\",\n        \"std\": 11,\n        \"min\": 0,\n        \"max\": 40,\n        \"num_unique_values\": 41,\n        \"samples\": [\n          24,\n          13,\n          8\n        ],\n        \"semantic_type\": \"\",\n        \"description\": \"\"\n      }\n    },\n    {\n      \"column\": \"Vendas\",\n      \"properties\": {\n        \"dtype\": \"category\",\n        \"num_unique_values\": 15,\n        \"samples\": [\n          \"110\",\n          \"90\",\n          \"120\"\n        ],\n        \"semantic_type\": \"\",\n        \"description\": \"\"\n      }\n    },\n    {\n      \"column\": \"G\\u00eanero do Livro\",\n      \"properties\": {\n        \"dtype\": \"category\",\n        \"num_unique_values\": 5,\n        \"samples\": [\n          \"Romance\",\n          \"Hist\\u00f3ria\",\n          \"Auto-ajuda\"\n        ],\n        \"semantic_type\": \"\",\n        \"description\": \"\"\n      }\n    },\n    {\n      \"column\": \"Data de Venda\",\n      \"properties\": {\n        \"dtype\": \"string\",\n        \"num_unique_values\": 38,\n        \"samples\": [\n          \"12/03/2024\",\n          \"08/06/2024\",\n          \"10/05/2024\"\n        ],\n        \"semantic_type\": \"\",\n        \"description\": \"\"\n      }\n    },\n    {\n      \"column\": \"Lucro (R$)\",\n      \"properties\": {\n        \"dtype\": \"number\",\n        \"std\": 619.7908986987112,\n        \"min\": -300.0,\n        \"max\": 2200.0,\n        \"num_unique_values\": 30,\n        \"samples\": [\n          850.0,\n          600.5,\n          1400.0\n        ],\n        \"semantic_type\": \"\",\n        \"description\": \"\"\n      }\n    }\n  ]\n}"
            }
          },
          "metadata": {}
        }
      ]
    },
    {
      "cell_type": "code",
      "source": [
        "df.info()"
      ],
      "metadata": {
        "colab": {
          "base_uri": "https://localhost:8080/"
        },
        "id": "qSZ-qYXK8cSu",
        "outputId": "1b776556-ddd0-46f8-c48c-56bdebc6569f"
      },
      "execution_count": 5,
      "outputs": [
        {
          "output_type": "stream",
          "name": "stdout",
          "text": [
            "<class 'pandas.core.frame.DataFrame'>\n",
            "RangeIndex: 41 entries, 0 to 40\n",
            "Data columns (total 5 columns):\n",
            " #   Column           Non-Null Count  Dtype  \n",
            "---  ------           --------------  -----  \n",
            " 0   Índice           41 non-null     int64  \n",
            " 1   Vendas           41 non-null     object \n",
            " 2   Gênero do Livro  41 non-null     object \n",
            " 3   Data de Venda    41 non-null     object \n",
            " 4   Lucro (R$)       41 non-null     float64\n",
            "dtypes: float64(1), int64(1), object(3)\n",
            "memory usage: 1.7+ KB\n"
          ]
        }
      ]
    },
    {
      "cell_type": "markdown",
      "source": [
        "## Limpeza e Transformação"
      ],
      "metadata": {
        "id": "WLCaLhXbvr65"
      }
    },
    {
      "cell_type": "code",
      "source": [
        "print(df['Vendas'].unique())"
      ],
      "metadata": {
        "colab": {
          "base_uri": "https://localhost:8080/"
        },
        "id": "3qsMvs038rm6",
        "outputId": "f1d41bda-9d2b-4fc8-be30-da5eff341abf"
      },
      "execution_count": 6,
      "outputs": [
        {
          "output_type": "stream",
          "name": "stdout",
          "text": [
            "['120' '95' 'abc' '150' '80' '100' '50' '-10' '85' '110' '130' '90' '140'\n",
            " '60' '75']\n"
          ]
        }
      ]
    },
    {
      "cell_type": "code",
      "source": [
        "df.isnull().sum()"
      ],
      "metadata": {
        "colab": {
          "base_uri": "https://localhost:8080/",
          "height": 241
        },
        "id": "8ld_sMpp9Fgd",
        "outputId": "262fee8e-c5a8-4123-d8a3-bb63e66c65a2"
      },
      "execution_count": 7,
      "outputs": [
        {
          "output_type": "execute_result",
          "data": {
            "text/plain": [
              "Índice             0\n",
              "Vendas             0\n",
              "Gênero do Livro    0\n",
              "Data de Venda      0\n",
              "Lucro (R$)         0\n",
              "dtype: int64"
            ],
            "text/html": [
              "<div>\n",
              "<style scoped>\n",
              "    .dataframe tbody tr th:only-of-type {\n",
              "        vertical-align: middle;\n",
              "    }\n",
              "\n",
              "    .dataframe tbody tr th {\n",
              "        vertical-align: top;\n",
              "    }\n",
              "\n",
              "    .dataframe thead th {\n",
              "        text-align: right;\n",
              "    }\n",
              "</style>\n",
              "<table border=\"1\" class=\"dataframe\">\n",
              "  <thead>\n",
              "    <tr style=\"text-align: right;\">\n",
              "      <th></th>\n",
              "      <th>0</th>\n",
              "    </tr>\n",
              "  </thead>\n",
              "  <tbody>\n",
              "    <tr>\n",
              "      <th>Índice</th>\n",
              "      <td>0</td>\n",
              "    </tr>\n",
              "    <tr>\n",
              "      <th>Vendas</th>\n",
              "      <td>0</td>\n",
              "    </tr>\n",
              "    <tr>\n",
              "      <th>Gênero do Livro</th>\n",
              "      <td>0</td>\n",
              "    </tr>\n",
              "    <tr>\n",
              "      <th>Data de Venda</th>\n",
              "      <td>0</td>\n",
              "    </tr>\n",
              "    <tr>\n",
              "      <th>Lucro (R$)</th>\n",
              "      <td>0</td>\n",
              "    </tr>\n",
              "  </tbody>\n",
              "</table>\n",
              "</div><br><label><b>dtype:</b> int64</label>"
            ]
          },
          "metadata": {},
          "execution_count": 7
        }
      ]
    },
    {
      "cell_type": "code",
      "source": [
        "df.duplicated().sum()"
      ],
      "metadata": {
        "colab": {
          "base_uri": "https://localhost:8080/"
        },
        "id": "mydEg91W9ccM",
        "outputId": "c3979664-2c11-44aa-bd4c-62cda36e96ea"
      },
      "execution_count": 8,
      "outputs": [
        {
          "output_type": "execute_result",
          "data": {
            "text/plain": [
              "np.int64(0)"
            ]
          },
          "metadata": {},
          "execution_count": 8
        }
      ]
    },
    {
      "cell_type": "code",
      "source": [
        "df['Vendas'] = df['Vendas'].str.replace('abc','0')\n",
        "print(df['Vendas'].unique())"
      ],
      "metadata": {
        "colab": {
          "base_uri": "https://localhost:8080/"
        },
        "id": "-g_feW-c9i_O",
        "outputId": "157dbef4-675c-41a0-d5ed-407ee32065a7"
      },
      "execution_count": 9,
      "outputs": [
        {
          "output_type": "stream",
          "name": "stdout",
          "text": [
            "['120' '95' '0' '150' '80' '100' '50' '-10' '85' '110' '130' '90' '140'\n",
            " '60' '75']\n"
          ]
        }
      ]
    },
    {
      "cell_type": "code",
      "source": [
        "df['Vendas'] = df['Vendas'].astype(int)"
      ],
      "metadata": {
        "id": "nULgnqun95sO"
      },
      "execution_count": 10,
      "outputs": []
    },
    {
      "cell_type": "code",
      "source": [
        "print(df['Vendas'].dtype)"
      ],
      "metadata": {
        "colab": {
          "base_uri": "https://localhost:8080/"
        },
        "id": "pdPXfcqA-MVY",
        "outputId": "5a7181a6-5ea2-454d-ea3c-b9feef337aad"
      },
      "execution_count": 11,
      "outputs": [
        {
          "output_type": "stream",
          "name": "stdout",
          "text": [
            "int64\n"
          ]
        }
      ]
    },
    {
      "cell_type": "code",
      "source": [
        "print(df['Gênero do Livro'].unique())"
      ],
      "metadata": {
        "colab": {
          "base_uri": "https://localhost:8080/"
        },
        "id": "ZeygUYv0t8KS",
        "outputId": "b14ef63b-e7a7-4253-c221-2e133e44790f"
      },
      "execution_count": 13,
      "outputs": [
        {
          "output_type": "stream",
          "name": "stdout",
          "text": [
            "['Ficção Científica' 'Romance' 'Auto-ajuda' 'Fantasia' 'História']\n"
          ]
        }
      ]
    },
    {
      "cell_type": "code",
      "source": [
        "print(df['Data de Venda'].unique())"
      ],
      "metadata": {
        "colab": {
          "base_uri": "https://localhost:8080/"
        },
        "id": "xfWi-JiCuNiF",
        "outputId": "1abf8b5f-c187-4caf-e356-a08b06121fe4"
      },
      "execution_count": 14,
      "outputs": [
        {
          "output_type": "stream",
          "name": "stdout",
          "text": [
            "['05/01/2024' '12/02/2024' '20/03/2024' '25/04/2024' '10/05/2024'\n",
            " '15/06/2024' '03/07/2024' '18/08/2024' '29/09/2024' '30/10/2024'\n",
            " '08/01/2024' '14/02/2024' '25/03/2024' '28/04/2024' '15/05/2024'\n",
            " '10/06/2024' '20/07/2024' '05/08/2024' '09/09/2024' '15/10/2024'\n",
            " '25/11/2024' '05/12/2024' '01/01/2024' '08/04/2024' '20/05/2024'\n",
            " '30/07/2024' '25/08/2024' '15/09/2024' '28/10/2024' '20/11/2024'\n",
            " '08/12/2024' '03/01/2024' '25/02/2024' '12/03/2024' '17/04/2024'\n",
            " '25/05/2024' '08/06/2024' '18/07/2024']\n"
          ]
        }
      ]
    },
    {
      "cell_type": "code",
      "source": [
        "print(df['Lucro (R$)'].unique())"
      ],
      "metadata": {
        "colab": {
          "base_uri": "https://localhost:8080/"
        },
        "id": "JWdsg6PpugIn",
        "outputId": "57621078-ab1e-4107-be29-0a5e4bbe94f0"
      },
      "execution_count": 15,
      "outputs": [
        {
          "output_type": "stream",
          "name": "stdout",
          "text": [
            "[1500.   900.5 -200.  2100.   800.   950.8  700.     0.   850.5 1200.\n",
            " 1550.   920.  -250.  2200.   990.   600.5 1120.   910.  1000.   800.5\n",
            "  -50.   900.   950.  1400.   980.  -300.  1100.5  850.   810.  1120.5]\n"
          ]
        }
      ]
    },
    {
      "cell_type": "markdown",
      "source": [
        "## Salvando dataset tratado"
      ],
      "metadata": {
        "id": "AuzguACtvzVM"
      }
    },
    {
      "cell_type": "code",
      "source": [
        "df.to_csv('/content/drive/MyDrive/projeto-6/Vendas-livraria-brasil-tratado.csv', index=False)"
      ],
      "metadata": {
        "id": "JJ7FYZ2kv6gv"
      },
      "execution_count": 16,
      "outputs": []
    }
  ]
}